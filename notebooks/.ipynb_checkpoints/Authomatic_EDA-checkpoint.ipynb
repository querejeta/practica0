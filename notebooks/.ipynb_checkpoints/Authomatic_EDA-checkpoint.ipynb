{
 "cells": [
  {
   "cell_type": "markdown",
   "id": "bb4f0444",
   "metadata": {},
   "source": [
    "## Información sobre el dataset\n",
    "\n",
    "El conjunto BAF consta de seis conjuntos de datos generados a partir de un conjunto de datos reales de detección de fraudes en la apertura de cuentas bancarias en línea. Se trata de una aplicación relevante para Fair ML, ya que las predicciones del modelo\n",
    "se traducen en la concesión o denegación de servicios financieros a las personas, lo que puede agravar las desigualdades sociales existentes. \n",
    "Por ejemplo, denegar sistemáticamente el acceso al crédito a las personas de un grupo puede perpetuar o incluso ampliar las desigualdades sociales existentes.\n",
    "puede perpetuar o incluso ampliar las desigualdades de riqueza existentes. Cada variante del conjunto de datos cuenta con tipos predeterminados y controlados de sesgo de los datos en múltiples pasos temporales.  Las variantes mencionadas, combinadas con los cambios de distribución temporal inherentes\n",
    "inherentes a la distribución de datos subyacente, constituyen un medio innovador para poner a prueba el rendimiento y equidad de los modelos de ML destinados a operar en entornos dinámicos.\n",
    "\n",
    "Los conjuntos de datos de la suite se generaron aprovechando modelos de redes generativas adversariales (GAN) de última generación. Una razón importante para elegir estos métodos fue tener en cuenta la privacidad de los solicitantes, una preocupación cada vez mayor en el panorama social y legislativo actual.\n",
    "\n",
    "Cada conjunto de datos está compuesto por un total de un millón de instancias de aplicaciones individuales, con un total de treinta características. Estas últimas representan propiedades observadas de las solicitudes, ya sean obtenidas directamente directamente del solicitante (por ejemplo, su situación laboral) o derivadas de la información facilitada (por ejemplo, si el número de teléfono facilitado es válido). (por ejemplo, si el número de teléfono facilitado es válido), y agregaciones de los datos (por ejemplo, frecuencia de solicitudes en un código postal determinado). en un código postal determinado). Los datos abarcan ocho meses de solicitudes, que pueden identificarse en la columna \"mes\".  En cuanto a los atributos protegidos, el conjunto de datos proporciona la edad, los ingresos personales y la situación laboral del solicitante. Para proporcionar cierto grado de privacidad diferencial, aplicamos ruido en las instancias del conjunto de datos original y categorizamos las columnas de información personal, como los ingresos y la edad, antes del entrenamiento del modelo GAN."
   ]
  },
  {
   "cell_type": "markdown",
   "id": "ee3379eb",
   "metadata": {},
   "source": [
    "## Variables\n",
    "\n",
    "• income (numeric): Annual income of the applicant (in decile form). Ranges between [0.1, 0.9].\n",
    "\n",
    "• name_email_similarity (numeric): Metric of similarity between email and applicant’s name. Higher values represent higher similarity. Ranges between [0, 1].\n",
    "\n",
    "• prev_address_months_count (numeric): Number of months in previous registered address of the applicant, i.e. the applicant’s previous residence, if applicable. Ranges between [−1, 380] months (-1 is a missing value).\n",
    "\n",
    "• current_address_months_count (numeric): Months in currently registered address of the applicant. Ranges between [−1, 429] months (-1 is a missing value).\n",
    "\n",
    "• customer_age (numeric): Applicant’s age in years, rounded to the decade. Ranges between [10, 90] years.\n",
    "\n",
    "• days_since_request (numeric): Number of days passed since application was done. Ranges between [0, 79] days.\n",
    "\n",
    "• intended_balcon_amount (numeric): Initial transferred amount for application. Ranges between [−16, 114] (negatives are missing values).\n",
    "\n",
    "• payment_type (categorical): Credit payment plan type. 5 possible (annonymized) values.\n",
    "\n",
    "• zip_count_4w (numeric): Number of applications within same zip code in last 4 weeks. Ranges between [1, 6830].\n",
    "\n",
    "• velocity_6h (numeric): Velocity of total applications made in last 6 hours i.e., average number of applications per hour in the last 6 hours. Ranges between [−175, 16818].\n",
    "\n",
    "• velocity_24h (numeric): Velocity of total applications made in last 24 hours i.e., average number of applications per hour in the last 24 hours. Ranges between [1297, 9586]\n",
    "\n",
    "• velocity_4w (numeric): Velocity of total applications made in last 4 weeks, i.e., average number of applications per hour in the last 4 weeks. Ranges between [2825, 7020].\n",
    "\n",
    "• bank_branch_count_8w (numeric): Number of total applications in the selected bank branch in last 8 weeks. Ranges between [0, 2404].\n",
    "\n",
    "• date_of_birth_distinct_emails_4w (numeric): Number of emails for applicants with same date of birth in last 4 weeks. Ranges between [0, 39].\n",
    "\n",
    "• employment_status (categorical): Employment status of the applicant. 7 possible (annonymized) values.\n",
    "• credit_risk_score (numeric): Internal score of application risk. Ranges between [−191, 389].\n",
    "\n",
    "• email_is_free (binary): Domain of application email (either free or paid).\n",
    "\n",
    "• housing_status (categorical): Current residential status for applicant. 7 possible (annonymized) values.\n",
    "\n",
    "• phone_home_valid (binary): Validity of provided home phone.\n",
    "\n",
    "• phone_mobile_valid (binary): Validity of provided mobile phone.\n",
    "\n",
    "• bank_months_count (numeric): How old is previous account (if held) in months. Ranges between [−1, 32] months (-1 is a missing value).\n",
    "\n",
    "• has_other_cards (binary): If applicant has other cards from the same banking company.\n",
    "\n",
    "• proposed_credit_limit (numeric): Applicant’s proposed credit limit. Ranges between [200, 2000].\n",
    "\n",
    "• foreign_request (binary): If origin country of request is different from bank’s country.\n",
    "\n",
    "• source (categorical): Online source of application. Either browser (INTERNET) or app (TELEAPP).\n",
    "\n",
    "• session_length_in_minutes (numeric): Length of user session in banking website in minutes. Ranges between [−1, 107] minutes (-1 is a missing value).\n",
    "\n",
    "• device_os (categorical): Operative system of device that made request. Possible values are: Windows, macOS, Linux, X11, or other.\n",
    "\n",
    "• keep_alive_session (binary): User option on session logout.\n",
    "\n",
    "• device_distinct_emails (numeric): Number of distinct emails in banking website from the used device in last 8 weeks. Ranges between [−1, 2] emails (-1 is a missing value).\n",
    "\n",
    "• device_fraud_count (numeric): Number of fraudulent applications with used device. Ranges between [0, 1].\n",
    "\n",
    "• month (numeric): Month where the application was made. Ranges between [0, 7].\n",
    "\n",
    "• fraud_bool (binary): If the application is fraudulent or not.\n"
   ]
  },
  {
   "cell_type": "code",
   "execution_count": 5,
   "id": "2719249d",
   "metadata": {},
   "outputs": [],
   "source": [
    "import pandas as pd\n",
    "\n",
    "pd_data = pd.read_csv(\"Base.csv\")\n",
    "pd_data.shape"
   ]
  },
  {
   "cell_type": "code",
   "execution_count": 11,
   "id": "bd43084c",
   "metadata": {},
   "outputs": [
    {
     "data": {
      "text/plain": [
       "{'fraud_bool': dtype('int64'),\n",
       " 'income': dtype('float64'),\n",
       " 'name_email_similarity': dtype('float64'),\n",
       " 'prev_address_months_count': dtype('int64'),\n",
       " 'current_address_months_count': dtype('int64'),\n",
       " 'customer_age': dtype('int64'),\n",
       " 'days_since_request': dtype('float64'),\n",
       " 'intended_balcon_amount': dtype('float64'),\n",
       " 'payment_type': dtype('O'),\n",
       " 'zip_count_4w': dtype('int64'),\n",
       " 'velocity_6h': dtype('float64'),\n",
       " 'velocity_24h': dtype('float64'),\n",
       " 'velocity_4w': dtype('float64'),\n",
       " 'bank_branch_count_8w': dtype('int64'),\n",
       " 'date_of_birth_distinct_emails_4w': dtype('int64'),\n",
       " 'employment_status': dtype('O'),\n",
       " 'credit_risk_score': dtype('int64'),\n",
       " 'email_is_free': dtype('int64'),\n",
       " 'housing_status': dtype('O'),\n",
       " 'phone_home_valid': dtype('int64'),\n",
       " 'phone_mobile_valid': dtype('int64'),\n",
       " 'bank_months_count': dtype('int64'),\n",
       " 'has_other_cards': dtype('int64'),\n",
       " 'proposed_credit_limit': dtype('float64'),\n",
       " 'foreign_request': dtype('int64'),\n",
       " 'source': dtype('O'),\n",
       " 'session_length_in_minutes': dtype('float64'),\n",
       " 'device_os': dtype('O'),\n",
       " 'keep_alive_session': dtype('int64'),\n",
       " 'device_distinct_emails_8w': dtype('int64'),\n",
       " 'device_fraud_count': dtype('int64'),\n",
       " 'month': dtype('int64')}"
      ]
     },
     "execution_count": 11,
     "metadata": {},
     "output_type": "execute_result"
    }
   ],
   "source": [
    "pd_data.dtypes.to_dict()"
   ]
  },
  {
   "cell_type": "code",
   "execution_count": 12,
   "id": "212aa518",
   "metadata": {},
   "outputs": [
    {
     "data": {
      "text/plain": [
       "0    0.988971\n",
       "1    0.011029\n",
       "Name: fraud_bool, dtype: float64"
      ]
     },
     "execution_count": 12,
     "metadata": {},
     "output_type": "execute_result"
    }
   ],
   "source": [
    "pd_data['fraud_bool'].value_counts(normalize=True)"
   ]
  },
  {
   "cell_type": "markdown",
   "id": "d8b05ca5",
   "metadata": {},
   "source": [
    "## Librerías para EDA automático\n",
    "\n",
    "https://towardsdatascience.com/4-libraries-that-can-perform-eda-in-one-line-of-python-code-b13938a06ae\n",
    "\n",
    "https://pub.towardsai.net/5-python-packages-for-effortless-eda-94abddac3bc5\n",
    "\n",
    "https://github.com/shivpalSW/EDA-with-AutoEDA-libraries"
   ]
  },
  {
   "cell_type": "code",
   "execution_count": 14,
   "id": "c29a40f8",
   "metadata": {},
   "outputs": [
    {
     "name": "stdout",
     "output_type": "stream",
     "text": [
      "Collecting sweetviz\n",
      "  Downloading https://files.pythonhosted.org/packages/7b/d7/b83a6a5548f6fd028c18e198f116e0be641c0db72cc12b0d6ddb836d0fa4/sweetviz-2.2.1-py3-none-any.whl (15.1MB)\n",
      "Requirement already satisfied: scipy>=1.3.2 in c:\\users\\ariasbo\\appdata\\local\\continuum\\anaconda3\\lib\\site-packages (from sweetviz) (1.7.3)\n",
      "Requirement already satisfied: jinja2>=2.11.1 in c:\\users\\ariasbo\\appdata\\local\\continuum\\anaconda3\\lib\\site-packages (from sweetviz) (2.11.3)\n",
      "Requirement already satisfied: matplotlib>=3.1.3 in c:\\users\\ariasbo\\appdata\\local\\continuum\\anaconda3\\lib\\site-packages (from sweetviz) (3.3.4)\n",
      "Collecting importlib-resources>=1.2.0 (from sweetviz)\n",
      "  Downloading https://files.pythonhosted.org/packages/38/71/c13ea695a4393639830bf96baea956538ba7a9d06fcce7cef10bfff20f72/importlib_resources-5.12.0-py3-none-any.whl\n",
      "Requirement already satisfied: tqdm>=4.43.0 in c:\\users\\ariasbo\\appdata\\local\\continuum\\anaconda3\\lib\\site-packages (from sweetviz) (4.62.3)\n",
      "Requirement already satisfied: pandas!=1.0.0,!=1.0.1,!=1.0.2,>=0.25.3 in c:\\users\\ariasbo\\appdata\\local\\continuum\\anaconda3\\lib\\site-packages (from sweetviz) (1.3.5)\n",
      "Requirement already satisfied: numpy>=1.16.0 in c:\\users\\ariasbo\\appdata\\local\\continuum\\anaconda3\\lib\\site-packages (from sweetviz) (1.21.6)\n",
      "Requirement already satisfied: importlib-metadata; python_version < \"3.8\" in c:\\users\\ariasbo\\appdata\\local\\continuum\\anaconda3\\lib\\site-packages (from sweetviz) (4.8.2)\n",
      "Requirement already satisfied: MarkupSafe>=0.23 in c:\\users\\ariasbo\\appdata\\local\\continuum\\anaconda3\\lib\\site-packages (from jinja2>=2.11.1->sweetviz) (2.0.1)\n",
      "Requirement already satisfied: pillow>=6.2.0 in c:\\users\\ariasbo\\appdata\\local\\continuum\\anaconda3\\lib\\site-packages (from matplotlib>=3.1.3->sweetviz) (8.4.0)\n",
      "Requirement already satisfied: python-dateutil>=2.1 in c:\\users\\ariasbo\\appdata\\local\\continuum\\anaconda3\\lib\\site-packages (from matplotlib>=3.1.3->sweetviz) (2.8.2)\n",
      "Requirement already satisfied: kiwisolver>=1.0.1 in c:\\users\\ariasbo\\appdata\\local\\continuum\\anaconda3\\lib\\site-packages (from matplotlib>=3.1.3->sweetviz) (1.3.1)\n",
      "Requirement already satisfied: cycler>=0.10 in c:\\users\\ariasbo\\appdata\\local\\continuum\\anaconda3\\lib\\site-packages (from matplotlib>=3.1.3->sweetviz) (0.11.0)\n",
      "Requirement already satisfied: pyparsing!=2.0.4,!=2.1.2,!=2.1.6,>=2.0.3 in c:\\users\\ariasbo\\appdata\\local\\continuum\\anaconda3\\lib\\site-packages (from matplotlib>=3.1.3->sweetviz) (3.0.4)\n",
      "Requirement already satisfied: zipp>=3.1.0; python_version < \"3.10\" in c:\\users\\ariasbo\\appdata\\local\\continuum\\anaconda3\\lib\\site-packages (from importlib-resources>=1.2.0->sweetviz) (3.7.0)\n",
      "Requirement already satisfied: colorama; platform_system == \"Windows\" in c:\\users\\ariasbo\\appdata\\local\\continuum\\anaconda3\\lib\\site-packages (from tqdm>=4.43.0->sweetviz) (0.4.4)\n",
      "Requirement already satisfied: pytz>=2017.3 in c:\\users\\ariasbo\\appdata\\local\\continuum\\anaconda3\\lib\\site-packages (from pandas!=1.0.0,!=1.0.1,!=1.0.2,>=0.25.3->sweetviz) (2021.3)\n",
      "Requirement already satisfied: typing-extensions>=3.6.4; python_version < \"3.8\" in c:\\users\\ariasbo\\appdata\\local\\continuum\\anaconda3\\lib\\site-packages (from importlib-metadata; python_version < \"3.8\"->sweetviz) (3.7.4.3)\n",
      "Requirement already satisfied: six>=1.5 in c:\\users\\ariasbo\\appdata\\local\\continuum\\anaconda3\\lib\\site-packages (from python-dateutil>=2.1->matplotlib>=3.1.3->sweetviz) (1.15.0)\n",
      "Installing collected packages: importlib-resources, sweetviz\n",
      "Successfully installed importlib-resources-5.12.0 sweetviz-2.2.1\n"
     ]
    }
   ],
   "source": [
    "!pip install sweetviz"
   ]
  },
  {
   "cell_type": "code",
   "execution_count": 15,
   "id": "fbd602e3",
   "metadata": {},
   "outputs": [
    {
     "data": {
      "application/vnd.jupyter.widget-view+json": {
       "model_id": "2d109e20729e4b4e814ad1eb315fc845",
       "version_major": 2,
       "version_minor": 0
      },
      "text/plain": [
       "                                             |                                             | [  0%]   00:00 ->…"
      ]
     },
     "metadata": {},
     "output_type": "display_data"
    },
    {
     "name": "stdout",
     "output_type": "stream",
     "text": [
      "Report BAF_EDA_report.html was generated! NOTEBOOK/COLAB USERS: the web browser MAY not pop up, regardless, the report IS saved in your notebook/colab files.\n"
     ]
    }
   ],
   "source": [
    "import sweetviz as sv\n",
    "# https://www.analyticsvidhya.com/blog/2021/01/making-exploratory-data-analysis-sweeter-with-sweetviz-2-0/\n",
    "\n"
   ]
  }
 ],
 "metadata": {
  "kernelspec": {
   "display_name": "Python 3 (ipykernel)",
   "language": "python",
   "name": "python3"
  },
  "language_info": {
   "codemirror_mode": {
    "name": "ipython",
    "version": 3
   },
   "file_extension": ".py",
   "mimetype": "text/x-python",
   "name": "python",
   "nbconvert_exporter": "python",
   "pygments_lexer": "ipython3",
   "version": "3.7.9"
  }
 },
 "nbformat": 4,
 "nbformat_minor": 5
}
